{
  "nbformat": 4,
  "nbformat_minor": 0,
  "metadata": {
    "colab": {
      "provenance": []
    },
    "kernelspec": {
      "name": "python3",
      "display_name": "Python 3"
    },
    "language_info": {
      "name": "python"
    }
  },
  "cells": [
    {
      "cell_type": "code",
      "execution_count": 2,
      "metadata": {
        "colab": {
          "base_uri": "https://localhost:8080/"
        },
        "id": "deAWEYE7i8yK",
        "outputId": "cd5e9885-8bc6-46fb-e6e3-793081e06fc7"
      },
      "outputs": [
        {
          "output_type": "stream",
          "name": "stdout",
          "text": [
            "Drive already mounted at /content/drive; to attempt to forcibly remount, call drive.mount(\"/content/drive\", force_remount=True).\n",
            "5 baris pertama DataFrame train_data:\n",
            "                                            sentence  sentiment\n",
            "0  awww that s a bummer you shoulda got david car...          0\n",
            "1  is upset that he can t update his facebook by ...          0\n",
            "2  i dived many times for the ball managed to sav...          0\n",
            "3     my whole body feels itchy and like its on fire          0\n",
            "4  no it s not behaving at all i m mad why am i h...          0\n",
            "\n",
            "Informasi DataFrame train_data:\n",
            "<class 'pandas.core.frame.DataFrame'>\n",
            "RangeIndex: 1523975 entries, 0 to 1523974\n",
            "Data columns (total 2 columns):\n",
            " #   Column     Non-Null Count    Dtype \n",
            "---  ------     --------------    ----- \n",
            " 0   sentence   1523975 non-null  object\n",
            " 1   sentiment  1523975 non-null  int64 \n",
            "dtypes: int64(1), object(1)\n",
            "memory usage: 23.3+ MB\n",
            "\n",
            "5 baris pertama DataFrame test_data:\n",
            "                                            sentence  sentiment\n",
            "0  i loooooooovvvvvveee my kindle not that the dx...          1\n",
            "1  reading my kindle love it lee childs is good read          1\n",
            "2  ok first assesment of the kindle it fucking rocks          1\n",
            "3  you ll love your kindle i ve had mine for a fe...          1\n",
            "4  fair enough but i have the kindle and i think ...          1\n",
            "\n",
            "Informasi DataFrame test_data:\n",
            "<class 'pandas.core.frame.DataFrame'>\n",
            "RangeIndex: 359 entries, 0 to 358\n",
            "Data columns (total 2 columns):\n",
            " #   Column     Non-Null Count  Dtype \n",
            "---  ------     --------------  ----- \n",
            " 0   sentence   359 non-null    object\n",
            " 1   sentiment  359 non-null    int64 \n",
            "dtypes: int64(1), object(1)\n",
            "memory usage: 5.7+ KB\n",
            "\n",
            "Distribusi Sentimen di train_data.csv:\n",
            "sentiment\n",
            "0    767059\n",
            "1    756916\n",
            "Name: count, dtype: int64\n"
          ]
        }
      ],
      "source": [
        "import pandas as pd\n",
        "import re\n",
        "from sklearn.feature_extraction.text import TfidfVectorizer\n",
        "from sklearn.naive_bayes import MultinomialNB\n",
        "from sklearn.metrics import accuracy_score, precision_score, recall_score, f1_score, classification_report, confusion_matrix\n",
        "import matplotlib.pyplot as plt\n",
        "import seaborn as sns\n",
        "\n",
        "from google.colab import drive\n",
        "drive.mount('/content/drive')\n",
        "\n",
        "base_path = '/content/drive/MyDrive/Dataset_ML/Sentiment140/'\n",
        "\n",
        "train_df = pd.read_csv(f'{base_path}train_data.csv')\n",
        "test_df = pd.read_csv(f'{base_path}test_data.csv')\n",
        "\n",
        "print(\"5 baris pertama DataFrame train_data:\")\n",
        "print(train_df.head())\n",
        "print(\"\\nInformasi DataFrame train_data:\")\n",
        "train_df.info()\n",
        "print(\"\\n5 baris pertama DataFrame test_data:\")\n",
        "print(test_df.head())\n",
        "print(\"\\nInformasi DataFrame test_data:\")\n",
        "test_df.info()\n",
        "print(\"\\nDistribusi Sentimen di train_data.csv:\")\n",
        "print(train_df['sentiment'].value_counts())"
      ]
    },
    {
      "cell_type": "code",
      "source": [
        "def preprocess_text_simplified(text):\n",
        "    text = text.lower()\n",
        "    text = re.sub(r'[^a-z\\s]', '', text)\n",
        "    return text"
      ],
      "metadata": {
        "id": "4df417vHot3J"
      },
      "execution_count": 3,
      "outputs": []
    },
    {
      "cell_type": "code",
      "source": [
        "train_df['cleaned_sentence'] = train_df['sentence'].apply(preprocess_text_simplified)\n",
        "test_df['cleaned_sentence'] = test_df['sentence'].apply(preprocess_text_simplified)"
      ],
      "metadata": {
        "id": "Ov9i4bJXow7r"
      },
      "execution_count": 4,
      "outputs": []
    },
    {
      "cell_type": "code",
      "source": [
        "\n",
        "\n",
        "tfidf_vectorizer = TfidfVectorizer(max_features=10000, stop_words='english')\n",
        "\n",
        "X_train_tfidf = tfidf_vectorizer.fit_transform(train_df['cleaned_sentence'])\n",
        "X_test_tfidf = tfidf_vectorizer.transform(test_df['cleaned_sentence'])\n",
        "\n",
        "print(f\"\\nBentuk matriks TF-IDF untuk data latih: {X_train_tfidf.shape}\")\n",
        "print(f\"Bentuk matriks TF-IDF untuk data uji: {X_test_tfidf.shape}\")\n",
        "\n"
      ],
      "metadata": {
        "colab": {
          "base_uri": "https://localhost:8080/"
        },
        "id": "Ajp4PNdmo1p3",
        "outputId": "16a0d705-f86e-4e67-a4a6-8d0da258a610"
      },
      "execution_count": 5,
      "outputs": [
        {
          "output_type": "stream",
          "name": "stdout",
          "text": [
            "\n",
            "Bentuk matriks TF-IDF untuk data latih: (1523975, 10000)\n",
            "Bentuk matriks TF-IDF untuk data uji: (359, 10000)\n"
          ]
        }
      ]
    },
    {
      "cell_type": "code",
      "source": [
        "y_train = train_df['sentiment']\n",
        "y_test = test_df['sentiment']"
      ],
      "metadata": {
        "id": "27l_lyg5o3d9"
      },
      "execution_count": 6,
      "outputs": []
    },
    {
      "cell_type": "code",
      "source": [
        "mnb_model = MultinomialNB()\n",
        "\n",
        "mnb_model.fit(X_train_tfidf, y_train)\n",
        "\n",
        "y_pred_mnb = mnb_model.predict(X_test_tfidf)\n",
        "\n",
        "accuracy_mnb = accuracy_score(y_test, y_pred_mnb)\n",
        "precision_mnb = precision_score(y_test, y_pred_mnb)\n",
        "recall_mnb = recall_score(y_test, y_pred_mnb)\n",
        "f1_mnb = f1_score(y_test, y_pred_mnb)\n",
        "\n",
        "print(\"\\n--- Evaluasi Model Multinomial Naive Bayes ---\")\n",
        "print(f\"Accuracy: {accuracy_mnb:.4f}\")\n",
        "print(f\"Precision: {precision_mnb:.4f}\")\n",
        "print(f\"Recall: {recall_mnb:.4f}\")\n",
        "print(f\"F1-Score: {f1_mnb:.4f}\")\n",
        "\n",
        "print(\"\\nClassification Report:\")\n",
        "print(classification_report(y_test, y_pred_mnb))\n",
        "\n",
        "plt.figure(figsize=(6, 5))\n",
        "sns.heatmap(confusion_matrix(y_test, y_pred_mnb), annot=True, fmt='d', cmap='Blues',\n",
        "            xticklabels=['Negatif/Netral (0)', 'Positif (1)'],\n",
        "            yticklabels=['Negatif/Netral (0)', 'Positif (1)'])\n",
        "plt.title('Confusion Matrix - Multinomial Naive Bayes')\n",
        "plt.xlabel('Prediksi')\n",
        "plt.ylabel('Aktual')\n",
        "plt.show()"
      ],
      "metadata": {
        "colab": {
          "base_uri": "https://localhost:8080/",
          "height": 782
        },
        "id": "cFxnZwDgo6qg",
        "outputId": "5ecbb3c2-075c-47c1-af76-10371001ede6"
      },
      "execution_count": 7,
      "outputs": [
        {
          "output_type": "stream",
          "name": "stdout",
          "text": [
            "\n",
            "--- Evaluasi Model Multinomial Naive Bayes ---\n",
            "Accuracy: 0.7967\n",
            "Precision: 0.8225\n",
            "Recall: 0.7637\n",
            "F1-Score: 0.7920\n",
            "\n",
            "Classification Report:\n",
            "              precision    recall  f1-score   support\n",
            "\n",
            "           0       0.77      0.83      0.80       177\n",
            "           1       0.82      0.76      0.79       182\n",
            "\n",
            "    accuracy                           0.80       359\n",
            "   macro avg       0.80      0.80      0.80       359\n",
            "weighted avg       0.80      0.80      0.80       359\n",
            "\n"
          ]
        },
        {
          "output_type": "display_data",
          "data": {
            "text/plain": [
              "<Figure size 600x500 with 2 Axes>"
            ],
            "image/png": "[encoded data removed]"
          },
          "metadata": {}
        }
      ]
    },
    {
      "cell_type": "code",
      "source": [
        "!pip freeze > requirements.txt"
      ],
      "metadata": {
        "id": "Yx6izuwVqOxD"
      },
      "execution_count": 8,
      "outputs": []
    }
  ]
}